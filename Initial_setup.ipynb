{
 "cells": [
  {
   "cell_type": "markdown",
   "id": "108e6e4d",
   "metadata": {},
   "source": [
    "# Set up\n",
    "\n",
    "Before we can start making galaxies and building universes in your computer we need to get some software and set up an environment. This environment will ensure everything remains self contained without messing with any of your existing python installations. Note that we highly recommend using a UNIX based system (OSX/Linux), Windows users may have a harder time.\n",
    "\n",
    "## Neccessary Software\n",
    "\n",
    "For this workshop you will need:\n",
    "\n",
    "- Git, you should already have this but if not there are plenty of guides (e.g https://git-scm.com/book/en/v2/Getting-Started-Installing-Git).\n",
    "- Python, version >3.10 preferable but not necessary but nothing lower than 3.8. If you are still using Python 2 I recommend a good long look in the mirror before righting your wrongs and installing an up to date version.\n",
    "- A suite of Python packages we will cover shortly.\n",
    "- A C compiler, you may already have one (you can check with `which clang` on OSX, `which gcc` on Linux and `where gcc` on Windows) but if not: \n",
    "    - On OSX the default compiler is `clang`: this can be installed by running `xcode-select --install` in the terminal after installing Xcode if you don't already have it.\n",
    "    - On Linux: GCC can be installed by following the guidance for your distro on installing gcc (e.g. https://www.makeuseof.com/how-to-install-c-compiler-linux/).\n",
    "    - On Windows: I have little experience but it appears the accepted method is installing via MinGW-w64 (e.g. https://www.scaler.com/topics/c/c-compiler-for-windows/).\n",
    "\n",
    "Additionally, to run SWIFT you will need some extra dependencies. These are listed here: https://swift.dur.ac.uk/docs/GettingStarted/compiling_code.html. All can easily be installed via package managers (on OSX I recomend using Homebrew to get them, https://brew.sh/).\n",
    "\n",
    "If you have any issues with installing any of this we can help you at the start of the workshop session so don't fret!"
   ]
  },
  {
   "cell_type": "markdown",
   "id": "abba62ab",
   "metadata": {},
   "source": [
    "## Setting up the environment\n",
    "\n",
    "First off lets collect together all the Python packages we will need an environment. There are multiple ways to make a Python environment, you may have come across the `conda` method but here we will use `venv`. Don't let this confuse you they are both correct ways but `venv` comes packaged with all Python distributions regardless of how you installed Python.\n",
    "\n",
    "First, open the terminal and navigate to where you would like to create an environment. It will be stored in a directory when created, it doesn't matter where this directory is.\n",
    "\n",
    "Next lets make the environment itself by running\n",
    "```\n",
    "python -m venv swift-workshop-env\n",
    "```\n",
    "in the terminal. This command will create a blank python environment with no packages inside a directory called `swift-workshop-env`. This name of the environment doesn't matter but its best to keep it informative.\n",
    "\n",
    "With the environment made we now need to activate it. This can be done by running\n",
    "```\n",
    "source swift-workshop-env/bin/activate\n",
    "```\n",
    "in the terminal. You may want to make an alias for this so you don't always have to know this path but it shouldn't matter given the length of this workshop.\n",
    "\n",
    "Now that the environment is active we need to install the packages we need. There aren't many and all can be installed via the Python package manager `pip`.\n",
    "\n",
    "First off lets install some simple Python packages for working with arrays, making plots, and working with HDF5 format data. To install there run the following:\n",
    "```\n",
    "pip install numpy matplotlib h5py\n",
    "```\n",
    "\n",
    "We will also need a SWIFT helper package for interacting with the data and making intial conditions called `swiftsimio` written by Dr Josh Borrow. As before we can install this via pip:\n",
    "```\n",
    "pip install swiftsimio\n",
    "```\n",
    "\n",
    "Finally, we will need jupter notebooks to interact with the notebooks that make up this workshop.\n",
    "```\n",
    "pip install notebook\n",
    "```"
   ]
  },
  {
   "cell_type": "markdown",
   "id": "c628d8d2",
   "metadata": {},
   "source": [
    "## Cloning the repo\n",
    "\n",
    "The vast majority of this workshop will be conducted via notebooks in a public github repo. You will need to clone this repo. Navigate to where you want to store the directory and run the following.\n",
    "```\n",
    "git clone https://github.com/WillJRoper/SWIFT-Workshop.git\n",
    "cd SWIFT-Workshop\n",
    "```\n",
    "\n",
    "Now we have the repo and are inside it we can start a `jupyter notebook` session and get to work. To begin simply run\n",
    "```\n",
    "jupyter notebook\n",
    "```\n",
    "on the command line and open `notebooks/Initial_Conditions/ipynb"
   ]
  },
  {
   "cell_type": "code",
   "execution_count": null,
   "id": "6a16293f",
   "metadata": {},
   "outputs": [],
   "source": []
  }
 ],
 "metadata": {
  "kernelspec": {
   "display_name": "Python 3 (ipykernel)",
   "language": "python",
   "name": "python3"
  },
  "language_info": {
   "codemirror_mode": {
    "name": "ipython",
    "version": 3
   },
   "file_extension": ".py",
   "mimetype": "text/x-python",
   "name": "python",
   "nbconvert_exporter": "python",
   "pygments_lexer": "ipython3",
   "version": "3.10.4"
  }
 },
 "nbformat": 4,
 "nbformat_minor": 5
}
