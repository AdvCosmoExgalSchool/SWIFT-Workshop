{
 "cells": [
  {
   "cell_type": "markdown",
   "id": "bfd0d17d-2fd0-4a85-bd37-2c3ab29bc89d",
   "metadata": {},
   "source": [
    "# Initial Conditions\n",
    "\n",
    "To run a simulation we need something to run... \n",
    "\n",
    "Simulations need initial conditions (ICs) that define the positions and properties of particles of various species. In this workshop, we won't work through the entire process of making legitimate ICs with matter distributions consistent with our own Universe and cosmology. Later on, we will use some legitimate ICs, but to begin with, we will make some toy ICs to get an idea of the process."
   ]
  },
  {
   "cell_type": "code",
   "execution_count": 1,
   "id": "f10a5850-6bea-45dd-a233-8f861e58ced3",
   "metadata": {},
   "outputs": [],
   "source": [
    "import numpy as np\n",
    "import matplotlib.pyplot as plt\n",
    "import unyt\n",
    "import scipy\n",
    "import astropy.units as u\n",
    "from astropy.cosmology import Planck18 as cosmo"
   ]
  },
  {
   "cell_type": "markdown",
   "id": "0cc3c95b-dd0f-4bc4-8333-36054563b0d8",
   "metadata": {},
   "source": [
    "## Merging dark matter halos\n",
    "\n",
    "To start with, let's ignore baryons (they're far too messy and get in the way). We can very easily create some initial conditions describing two merging dark matter halos, all we need to do is define the particle positions, velocities, and masses. In the cell below is a function that does just this. Take a look at what it does.\n",
    "\n",
    "This function takes the mass of a particle in solar mass, the number of particles in each halo, the size of the box around the two halos (in comoving megaparsecs [cMpc]), the central positions of each halo in units of the box length, the size of each halo in units of the box length, and the magnitude of the velocity of each halo as arguments. You can set these freely but note that pathological setups may cause issues or indeed not run at all. Beyond the input arguments feel free to modify the code.\n",
    "\n",
    "**BEWARE! Make the ICs too large and your computer will not be happy and the simulations will take too long to run if they don't crash your computer entirely!**"
   ]
  },
  {
   "cell_type": "code",
   "execution_count": 2,
   "id": "3032432d-0f41-4ee8-8ca0-604de226ae8c",
   "metadata": {},
   "outputs": [
    {
     "name": "stdout",
     "output_type": "stream",
     "text": [
      "0.3096599999999999\n",
      "m_p = 81964947.5333111\n",
      "Made halos with masses: log_10(M_1 / Msun) = 12.61 & log_10(M_2 / Msun) = 11.91\n"
     ]
    }
   ],
   "source": [
    "def make_merging_dm_halos(\n",
    "    part_mass,\n",
    "    npart1, \n",
    "    npart2, \n",
    "    boxsize, \n",
    "    halo1_pos, \n",
    "    halo2_pos, \n",
    "    halo1_size, \n",
    "    halo2_size, \n",
    "    halo1_vel, \n",
    "    halo2_vel\n",
    "):\n",
    "    \"\"\"\n",
    "    Make SWIFT initial conditions containing two dark matter halos.\n",
    "\n",
    "    Args:\n",
    "        part_mass (float)\n",
    "            The mass of a particle in solar masses.\n",
    "        npart1 (int)\n",
    "            The number of particles in the dark matter halo.\n",
    "        npart2 (int)\n",
    "            The number of particles in the dark matter halo.\n",
    "        boxsize (float)\n",
    "            The size of the simulation box in Mpc.\n",
    "        halo1_pos (array_like, float) [3]\n",
    "            An array describing the position of a halo in units of the boxsize (i.e. 0 < halo1_pos < 1).\n",
    "        halo2_pos (array_like, float) [3]\n",
    "            An array describing the position of a halo in units of the boxsize (i.e. 0 < halo1_pos < 1).\n",
    "        halo1_size (float)\n",
    "            The size of the halo in units of the boxsize. This size is the standard deviation of the \n",
    "            Gaussian kernel used to define random particle positions.\n",
    "        halo2_size (float)\n",
    "            The size of the halo in units of the boxsize. This size is the standard deviation of the \n",
    "            Gaussian kernel used to define random particle positions.\n",
    "        halo1_vel (float)\n",
    "            The magnitude of a halo's velocity in km/s.\n",
    "        halo2_vel (float)\n",
    "            The magnitude of a halo's velocity in km/s.\n",
    "    \"\"\"\n",
    "\n",
    "    # Convert quantities in boxsize units to cMpc\n",
    "    halo1_pos *= boxsize\n",
    "    halo2_pos *= boxsize\n",
    "    halo1_size *= boxsize\n",
    "    halo2_size *= boxsize\n",
    "\n",
    "    # Define the particle positions for each halo.\n",
    "    part1_pos = np.zeros((npart1, 3))\n",
    "    part2_pos = np.zeros((npart2, 3))\n",
    "    part1_pos[:, 0] = np.random.normal(loc=halo1_pos[0], scale=halo1_size, size=npart1)\n",
    "    part1_pos[:, 1] = np.random.normal(loc=halo1_pos[1], scale=halo1_size, size=npart1)\n",
    "    part1_pos[:, 2] = np.random.normal(loc=halo1_pos[2], scale=halo1_size, size=npart1)\n",
    "    part2_pos[:, 0] = np.random.normal(loc=halo2_pos[0], scale=halo2_size, size=npart2)\n",
    "    part2_pos[:, 1] = np.random.normal(loc=halo2_pos[1], scale=halo2_size, size=npart2)\n",
    "    part2_pos[:, 2] = np.random.normal(loc=halo2_pos[2], scale=halo2_size, size=npart2)\n",
    "\n",
    "    # Define some velocities, although not realistic we can start with all particles\n",
    "    # having the same velocity as the bulk velocity of the halo + some random contribution.\n",
    "\n",
    "    # To calculate velocities we need unit vectors to point the halos at each other\n",
    "    direction_vectors = halo2_pos - halo1_pos\n",
    "    normalized_direction_vectors = direction_vectors / np.linalg.norm(direction_vectors)\n",
    "\n",
    "    # Calculate velocities...\n",
    "    part1_vel = np.full_like(part1_pos, normalized_direction_vectors * halo1_vel)\n",
    "    part2_vel = np.full_like(part2_pos, -normalized_direction_vectors * halo2_vel)\n",
    "\n",
    "    # ... and add some random scatter from a velocity dispersion\n",
    "    part1_vel += np.random.normal(loc=0, scale=100, size=(npart1, 3))\n",
    "    part2_vel += np.random.normal(loc=0, scale=100, size=(npart2, 3))\n",
    "\n",
    "    # Combine the halo arrays into single arrays\n",
    "    pos = np.concatenate((part1_pos, part2_pos))\n",
    "    vel = np.concatenate((part1_vel, part2_vel))\n",
    "\n",
    "    # Create the particle mass array\n",
    "    masses = np.full(npart1 + npart2, part_mass)\n",
    "\n",
    "    print(\"Made halos with masses: log_10(M_1 / Msun) = \"\n",
    "          \"%.2f & log_10(M_2 / Msun) = %.2f\" % (np.log10(part_mass * npart1), np.log10(part_mass * npart2)))\n",
    "    \n",
    "    return pos, vel, masses\n",
    "\n",
    "# Define the boxsize\n",
    "boxsize = 5\n",
    "\n",
    "# Calculate the part mass necessary to be consistent with cosmology\n",
    "npart1 = 50000\n",
    "npart2 = 10000\n",
    "part_mass = (cosmo.Om(0) * cosmo.critical_density(0) * (boxsize * u.Mpc) ** 3 / (npart1 + npart2)).to(u.Msun).value\n",
    "\n",
    "print((npart1 + npart2) * part_mass * u.Msun / (boxsize * u.Mpc) ** 3 / cosmo.critical_density(0).to(u.Msun / u.Mpc ** 3))\n",
    "\n",
    "print(\"m_p =\", part_mass)\n",
    "\n",
    "# Make the halos\n",
    "pos, vel, masses = make_merging_dm_halos(\n",
    "    part_mass=part_mass,\n",
    "    npart1=npart1, \n",
    "    npart2=npart2, \n",
    "    boxsize=boxsize, \n",
    "    halo1_pos=np.array([0.5, 0.5, 0.5]), \n",
    "    halo2_pos=np.array([0.75, 0.75, 0.75]), \n",
    "    halo1_size=0.025, \n",
    "    halo2_size=0.01, \n",
    "    halo1_vel=50, \n",
    "    halo2_vel=200\n",
    ")"
   ]
  },
  {
   "cell_type": "markdown",
   "id": "d65670ec-7fc0-470a-93b4-98936979037f",
   "metadata": {},
   "source": [
    "Let's take a look at what we've made."
   ]
  },
  {
   "cell_type": "code",
   "execution_count": 3,
   "id": "f47c3e28-b072-47e6-b463-539463eca188",
   "metadata": {},
   "outputs": [
    {
     "data": {
      "image/png": "[encoded data removed]",
      "text/plain": [
       "<Figure size 640x480 with 1 Axes>"
      ]
     },
     "metadata": {},
     "output_type": "display_data"
    }
   ],
   "source": [
    "# Make a quick and dirty 2D histogram to visualise\n",
    "H, _, _ = np.histogram2d(pos[:, 0], pos[:, 2], bins=np.arange(0, boxsize + 0.01, 0.01))\n",
    "\n",
    "fig = plt.figure()\n",
    "ax = fig.add_subplot(111)\n",
    "ax.imshow(np.arcsinh(H), cmap=\"Greys_r\", extent=[0, boxsize, 0, boxsize])\n",
    "plt.show()\n",
    "plt.close()"
   ]
  },
  {
   "cell_type": "markdown",
   "id": "1a1a74d9-e88b-49be-bc64-684369fbb89e",
   "metadata": {},
   "source": [
    "Of course, what we've done here is simple make some arrays. Now we need to convert them into IC files that SWIFT will understand. \n",
    "\n",
    "## Initial condition format\n",
    "\n",
    "SWIFT's (and many other simulations') ICs are in HDF5 format. This format is ubiquitous in theoretical astrophysics and computing in general due to its simplicity, Python interface (`h5py`), and ability to load subsets of data. \n",
    "\n",
    "The interface to HDF5 files in Python functions similar to dictionaries with data stored under keys and accessed using `hdf[\"key\"]` syntax (with some caveats). We will show this below in a bit more detail, if you haven't come across HDF5 format files before it's worth getting familiar with them separately. It's an incredibly powerful data format.\n",
    "\n",
    "We can convert what we've made above into ICs by making use of `swiftsimio`'s `Writer` utility. Below I've defined a function that takes what was created above and saves it as a HDF5 file."
   ]
  },
  {
   "cell_type": "code",
   "execution_count": 4,
   "id": "a595d477-d31d-40b1-8cd6-d133cb667bb3",
   "metadata": {},
   "outputs": [],
   "source": [
    "from swiftsimio.units import cosmo_units\n",
    "from swiftsimio import Writer\n",
    "\n",
    "\n",
    "def make_dmo_ics(boxsize, pos, vel, masses):\n",
    "    \"\"\"\n",
    "    Convert arrays describing the particle distribution to an IC file.\n",
    "    \"\"\"\n",
    "    \n",
    "    # Associate units to the arrays and boxsize\n",
    "    boxsize *= unyt.Mpc\n",
    "    pos *= unyt.Mpc\n",
    "    vel *= unyt.km / unyt.s\n",
    "    masses *= unyt.Msun\n",
    "\n",
    "    # Generate object. cosmo_units corresponds to default Gadget-oid units\n",
    "    # of 10^10 Msun, Mpc, and km/s\n",
    "    ics = Writer(cosmo_units, boxsize, dimension=3)\n",
    "\n",
    "    # Attach the particle arrays\n",
    "    ics.dark_matter.coordinates = pos\n",
    "    ics.dark_matter.velocities = vel\n",
    "    ics.dark_matter.masses = masses\n",
    "\n",
    "    # Finally, write the ICs\n",
    "    ics.write(\"../ics/dmo_merger.hdf5\")\n",
    "\n",
    "\n",
    "make_dmo_ics(boxsize, pos, vel, masses)"
   ]
  },
  {
   "cell_type": "markdown",
   "id": "c108dff9-7a0e-4603-836a-676e9a62eb6d",
   "metadata": {},
   "source": [
    "There are a couple of things to note in the above. Firstly, `swiftsimio` makes use of unyt so we have associated all properties with their units to ensure consistency. Next, you'll see the `Writer` class is initialised with a `cosmo_units` object. This object encodes everything about the cosmological unit system and ensures that the initial conditions are correctly interpreted when SWIFT reads the ICs. Finally, you may have noticed we have only interacted with the `dark_matter` portion of the ICs. Next, we'll move on to those pesky baryons but first, take a look at [DMO Simulations](DMO_Simulations.ipynb) and then come back after completing the tutorial there."
   ]
  },
  {
   "cell_type": "markdown",
   "id": "53187aac-fe01-43f2-9c10-56e060d585cd",
   "metadata": {},
   "source": [
    "## Adding Baryons to the halos\n",
    "\n",
    "As neat and tidy as a dark matter only universe would be it, sadly, is not the Universe we study. Instead, we have a contribution from baryonic matter which makes up the observable portion of the Universe. Now let's introduce some baryons to the simulation so we can see how they are affected by the merger. \n",
    "\n",
    "To add baryons we will first need to read in the dark matter ICs from the above halos. To do so we will use `h5py`. \n",
    "- First, we open the HDF5 file and store this representation of the file in the `hdf` variable. Note that `\"r\"` tells `h5py` we want to read the data. The `hdf` object acts much like a dictionary.\n",
    "- We then extract the data based on their keys. Dark matter is denoted as `PartType1` (gas is `PartType0`, stars are `PartType4` and black holes are `PartType5`) so we first need that key and then we want the key corresponding to the data such as `Coordinates` so we append that like a file path.\n",
    "- We add `[:]` to the end to actually read the data, if we omit the square brackets entirely then we only store the `Dataset` in the variable, not the data itself. This is called lazy loading and enables the manipulation of extremely large datasets without reading all the data into memory. We could instead only extract a slice, say `[10:1000]`, or specific indices if we wanted.\n",
    "- We then close the HDF5 file to ensure it does not get corrupted or left open.\n",
    "\n",
    "_Of course, if you're paying attention you may have noticed we do not need to read the data again since the arrays are already in memory from above... but you will be manipulating HDF5 later so now is as good a time as any to cover it!_"
   ]
  },
  {
   "cell_type": "code",
   "execution_count": 5,
   "id": "a86e74a6-d6c1-4dc9-be2f-5089d83b3689",
   "metadata": {},
   "outputs": [],
   "source": [
    "import h5py\n",
    "\n",
    "# Open the file\n",
    "hdf = h5py.File(\"../ics/dmo_merger.hdf5\", \"r\")\n",
    "\n",
    "# Extract the data from before\n",
    "dm_pos = hdf[\"PartType1/Coordinates\"][:]\n",
    "dm_vel = hdf[\"PartType1/Velocities\"][:]\n",
    "dm_masses = hdf[\"PartType1/Masses\"][:]\n",
    "\n",
    "hdf.close()"
   ]
  },
  {
   "cell_type": "markdown",
   "id": "5af0ae2a-4a24-4f4c-9cb6-b4f1f2ac7ab1",
   "metadata": {},
   "source": [
    "Now that we have the dark matter data we can use it create gas particles. To do so we will use the simplest possible method: split the dark matter particles by the cosmic baryon fraction into a dark matter particle and a baryon and randomly perturb the new baryon particles. This is a horrible simplification, baryons do not obey the same density profiles as dark matter in halos but then again, the profiles used above are also not representative of the density profiles of dark matter in halos either.\n",
    "\n",
    "The function below will take the dark matter arrays and return arrays for the baryonic particles."
   ]
  },
  {
   "cell_type": "code",
   "execution_count": null,
   "id": "ac56cd5a-fe11-4a7e-b185-abcdf69914ca",
   "metadata": {},
   "outputs": [],
   "source": []
  },
  {
   "cell_type": "markdown",
   "id": "3b2ea3c3-1569-4f91-8135-8f95a008d52b",
   "metadata": {},
   "source": [
    "Now, for the messy bits... Baryons have other properties which we will need to set initial values for. We will do these by setting reasonably sensible randomised guesses, SWIFT will quickly recalculate them to be representative anyway. But there's an important concept to cover first...\n",
    "\n",
    "Gas dominates the baryons in the Universe and this gas behaves as a fluid. Various simulations treat fluids in different ways with a myriad of different ways to solve hydrodynamics equations to describe the motion of fluids. SWIFT is a Smoothed Particle Hydrodynamics (SPH) code. This means it uses particles smoothed over a kernel to represent the fluid and solves the hydrodynamical equation of motions using these kernels. An important property of SPH particles is the smoothing length. This property describes the size of the kernel (or fluid element) the particle describes. In high-density environments the smoothing length is smaller, in low-density environments it is larger. In reality, the smoothing length of an SPH particle is defined based on its neighbouring SPH particles, SWIFT will recalculate smoothing lengths after reading in the initial conditions if we tell it to, so all we need to do is initialise it with something sensible so nothing breaks prior to that."
   ]
  },
  {
   "cell_type": "code",
   "execution_count": null,
   "id": "d6956e83-768b-4d97-93b5-751824741e9a",
   "metadata": {},
   "outputs": [],
   "source": []
  },
  {
   "cell_type": "markdown",
   "id": "1bdff481-02b2-484f-a72c-4e66d79f0aac",
   "metadata": {},
   "source": [
    "With all of these properties calculated we can now use `swiftsimio` again to create the ICs."
   ]
  },
  {
   "cell_type": "code",
   "execution_count": null,
   "id": "9934c297-9eeb-4862-a7a3-a1ebfcaae146",
   "metadata": {},
   "outputs": [],
   "source": []
  },
  {
   "cell_type": "markdown",
   "id": "82a175e9-e354-4cf9-8452-38c27e439f98",
   "metadata": {},
   "source": [
    "Assuming you have finished running your DMO simulation now and seen the video, if not go and do that, you can now go to [Hydrodynamical Simualtions](Hydro_Simulations.ipynb) and set up SWIFT to run a hydrodynamical version of the merger."
   ]
  }
 ],
 "metadata": {
  "kernelspec": {
   "display_name": "Python 3 (ipykernel)",
   "language": "python",
   "name": "python3"
  },
  "language_info": {
   "codemirror_mode": {
    "name": "ipython",
    "version": 3
   },
   "file_extension": ".py",
   "mimetype": "text/x-python",
   "name": "python",
   "nbconvert_exporter": "python",
   "pygments_lexer": "ipython3",
   "version": "3.10.4"
  }
 },
 "nbformat": 4,
 "nbformat_minor": 5
}
