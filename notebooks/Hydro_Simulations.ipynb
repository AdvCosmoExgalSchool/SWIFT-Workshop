{
 "cells": [
  {
   "cell_type": "markdown",
   "id": "d4624369-61a7-41bf-a5f1-410b2e328bc5",
   "metadata": {},
   "source": [
    "# Hydrodynamical Simulations\n",
    "\n",
    "Now we have ICs with baryons we need to compile a new version of SWIFT with the hydrodynamics turned on (NOTE: you can run a DMO simulation like before with a version of SWIFT configured for hydrodynamics but the reverse is not true). \n",
    "\n",
    "To do this we will need to reconfigure SWIFT with some extra configuration flags:\n",
    "```\n",
    "./configure --disable-mpi --disable-compiler-warnings --disable-doxygen-doc --disable-hand-vec --with-hydro=sphenix --with-kernel=wendland-C2\n",
    "```\n",
    "(including the Mac caveat options). There are a fair few different hydrodynamics schemes and kernels in SWIFT, here we are using the default choice of SPHENIX ([Borrow+22](https://ui.adsabs.harvard.edu/abs/2022MNRAS.511.2367B/abstract)) combined with the $C2$ Wendlend kernel.\n",
    "\n",
    "Now invoke `make` again and you'll have a new `swift` executable capable of handling hydrodynamics.\n",
    "\n",
    "# The Parameter File\n",
    "\n",
    "We now need to use the example parameter file `params/hydro_merger.yml`. This file contains a new `SPH` block with all the parameters controlling hydrodynamical calculations take a look but you do not need to modify these (or should not need to). We will again have to modify the softenings for our set-up though. Since we changed the mass of the dark matter particles their softening will also have changed. Let's recalculate the softenings and add them to the parameter file.\n",
    "\n",
    "You've got here now so I can point out that you can get SWIFT to generate gas much more robustly than we did by invoking `Initial_Conditions:generate_gas_in_ics: 1` in the parameter file if you are running with cosmology turned on, (we will do this next). Had we used that I wouldn't have had an excuse to get you to muck around making baryons..."
   ]
  },
  {
   "cell_type": "code",
   "execution_count": 12,
   "id": "55e56c04-ec1e-4f55-9e64-52125743f3ec",
   "metadata": {},
   "outputs": [
    {
     "name": "stdout",
     "output_type": "stream",
     "text": [
      "comoving_DM_softening = 0.003064084638739541\n",
      "max_physical_DM_softening = 0.0008281309834431192\n",
      "comoving_baryon_softening = 0.0031350348286830728\n",
      "max_physical_baryon_softening = 0.0008473067104548845\n"
     ]
    }
   ],
   "source": [
    "import astropy.units as u\n",
    "from astropy.cosmology import Planck18 as cosmo\n",
    "\n",
    "# Enter the values you choose from the initial conditions notebook\n",
    "npart1 = 100000\n",
    "npart2 = 50000\n",
    "nbkg = 50 ** 3\n",
    "boxsize = 5\n",
    "\n",
    "def soft(boxsize, npart1, npart2, nbkg, cbf=0.1675):\n",
    "    part_mass = (cosmo.Om(0) * cosmo.critical_density(0) * boxsize ** 3 / (npart1 + npart2 + nbkg)).to(u.Msun)\n",
    "    gas_mass = part_mass * cbf\n",
    "    dm_mass = part_mass - gas_mass\n",
    "    dm_xbar = (1 / ((cosmo.Om(0) - cosmo.Ob(0)) * cosmo.critical_density(0) / dm_mass)) ** (1/3)\n",
    "    gas_xbar = (1 / (cosmo.Ob(0) * cosmo.critical_density(0) / gas_mass)) ** (1/3)\n",
    "\n",
    "    return 0.04 * dm_xbar.to(u.Mpc).value, 0.04 * gas_xbar.to(u.Mpc).value\n",
    "\n",
    "\n",
    "# Compute the softening lengths\n",
    "comoving_dm_softening, comoving_baryon_softening = soft(boxsize * u.Mpc, npart1, npart2, nbkg)\n",
    "print(\"comoving_DM_softening =\", comoving_dm_softening)\n",
    "print(\"max_physical_DM_softening =\", comoving_dm_softening / (1 + 2.7))\n",
    "print(\"comoving_baryon_softening =\", comoving_baryon_softening)\n",
    "print(\"max_physical_baryon_softening =\", comoving_baryon_softening / (1 + 2.7))"
   ]
  },
  {
   "cell_type": "markdown",
   "id": "4665b370-5f42-4da8-8a9b-f1deaaec56fc",
   "metadata": {},
   "source": [
    "# Running The Simulation\n",
    "\n",
    "Once again, before we run the simulation **navigate on the terminal to the base of the SWIFT-Workshop directory**, all of the parameter file paths assume you are running SWIFT at this location.\n",
    "\n",
    "To run the hydrodynamical simulation we now just need to add the `--hydro` flag to the command we used previously for the DMO run to turn on hydrodynamics in addition to gravity, and point to the hydro parameter file.\n",
    "```\n",
    "/path/to/SWIFT/swift --self-gravity --hydro --threads <n> params/DMO_merger.yml\n",
    "```\n",
    "\n",
    "Agina, if you want a more verbose output to see what SWIFT reports while it's running hydrodynamics you can add `-v 1` to enable verbose outputs. If you wish you could instead remove `--self-gravity` to run a purely hydrodynamical simulation and see what it would look like.\n",
    "\n",
    "## Visulising the Simulation\n",
    "\n",
    "Once the simulation finishes let's look at what the simulation looks like again. Below is a modified version of the code we used for the DMO simulation which visualises the merger but this time we have a left-hand panel showing the dark matter density and a right-hand panel which shows the gas density. You will once again find the resultant movie in the `videos` directory."
   ]
  },
  {
   "cell_type": "code",
   "execution_count": 8,
   "id": "b683f7a9-e03d-47f0-b861-47dcf6f1f252",
   "metadata": {},
   "outputs": [
    {
     "ename": "FileNotFoundError",
     "evalue": "[Errno 2] Unable to open file (unable to open file: name = '../snapshots/hydro_merger/snapshot_0000.hdf5', errno = 2, error message = 'No such file or directory', flags = 0, o_flags = 0)",
     "output_type": "error",
     "traceback": [
      "\u001b[0;31m---------------------------------------------------------------------------\u001b[0m",
      "\u001b[0;31mFileNotFoundError\u001b[0m                         Traceback (most recent call last)",
      "Cell \u001b[0;32mIn[8], line 16\u001b[0m\n\u001b[1;32m     13\u001b[0m ax2 \u001b[38;5;241m=\u001b[39m fig\u001b[38;5;241m.\u001b[39madd_subplot(\u001b[38;5;241m212\u001b[39m)\n\u001b[1;32m     15\u001b[0m \u001b[38;5;66;03m# Open the first snapshot and extract the DM coordinates\u001b[39;00m\n\u001b[0;32m---> 16\u001b[0m hdf \u001b[38;5;241m=\u001b[39m \u001b[43mh5py\u001b[49m\u001b[38;5;241;43m.\u001b[39;49m\u001b[43mFile\u001b[49m\u001b[43m(\u001b[49m\u001b[38;5;124;43m\"\u001b[39;49m\u001b[38;5;124;43m../snapshots/hydro_merger/snapshot_0000.hdf5\u001b[39;49m\u001b[38;5;124;43m\"\u001b[39;49m\u001b[43m,\u001b[49m\u001b[43m \u001b[49m\u001b[38;5;124;43m\"\u001b[39;49m\u001b[38;5;124;43mr\u001b[39;49m\u001b[38;5;124;43m\"\u001b[39;49m\u001b[43m)\u001b[49m\n\u001b[1;32m     17\u001b[0m dm_pos \u001b[38;5;241m=\u001b[39m hdf[\u001b[38;5;124m\"\u001b[39m\u001b[38;5;124mPartType1/Coordinates\u001b[39m\u001b[38;5;124m\"\u001b[39m][:]\n\u001b[1;32m     18\u001b[0m gas_pos \u001b[38;5;241m=\u001b[39m hdf[\u001b[38;5;124m\"\u001b[39m\u001b[38;5;124mPartType0/Coordinates\u001b[39m\u001b[38;5;124m\"\u001b[39m][:]\n",
      "File \u001b[0;32m~/Documents/Teaching/teaching-env/lib/python3.10/site-packages/h5py/_hl/files.py:567\u001b[0m, in \u001b[0;36mFile.__init__\u001b[0;34m(self, name, mode, driver, libver, userblock_size, swmr, rdcc_nslots, rdcc_nbytes, rdcc_w0, track_order, fs_strategy, fs_persist, fs_threshold, fs_page_size, page_buf_size, min_meta_keep, min_raw_keep, locking, alignment_threshold, alignment_interval, meta_block_size, **kwds)\u001b[0m\n\u001b[1;32m    558\u001b[0m     fapl \u001b[38;5;241m=\u001b[39m make_fapl(driver, libver, rdcc_nslots, rdcc_nbytes, rdcc_w0,\n\u001b[1;32m    559\u001b[0m                      locking, page_buf_size, min_meta_keep, min_raw_keep,\n\u001b[1;32m    560\u001b[0m                      alignment_threshold\u001b[38;5;241m=\u001b[39malignment_threshold,\n\u001b[1;32m    561\u001b[0m                      alignment_interval\u001b[38;5;241m=\u001b[39malignment_interval,\n\u001b[1;32m    562\u001b[0m                      meta_block_size\u001b[38;5;241m=\u001b[39mmeta_block_size,\n\u001b[1;32m    563\u001b[0m                      \u001b[38;5;241m*\u001b[39m\u001b[38;5;241m*\u001b[39mkwds)\n\u001b[1;32m    564\u001b[0m     fcpl \u001b[38;5;241m=\u001b[39m make_fcpl(track_order\u001b[38;5;241m=\u001b[39mtrack_order, fs_strategy\u001b[38;5;241m=\u001b[39mfs_strategy,\n\u001b[1;32m    565\u001b[0m                      fs_persist\u001b[38;5;241m=\u001b[39mfs_persist, fs_threshold\u001b[38;5;241m=\u001b[39mfs_threshold,\n\u001b[1;32m    566\u001b[0m                      fs_page_size\u001b[38;5;241m=\u001b[39mfs_page_size)\n\u001b[0;32m--> 567\u001b[0m     fid \u001b[38;5;241m=\u001b[39m \u001b[43mmake_fid\u001b[49m\u001b[43m(\u001b[49m\u001b[43mname\u001b[49m\u001b[43m,\u001b[49m\u001b[43m \u001b[49m\u001b[43mmode\u001b[49m\u001b[43m,\u001b[49m\u001b[43m \u001b[49m\u001b[43muserblock_size\u001b[49m\u001b[43m,\u001b[49m\u001b[43m \u001b[49m\u001b[43mfapl\u001b[49m\u001b[43m,\u001b[49m\u001b[43m \u001b[49m\u001b[43mfcpl\u001b[49m\u001b[43m,\u001b[49m\u001b[43m \u001b[49m\u001b[43mswmr\u001b[49m\u001b[38;5;241;43m=\u001b[39;49m\u001b[43mswmr\u001b[49m\u001b[43m)\u001b[49m\n\u001b[1;32m    569\u001b[0m \u001b[38;5;28;01mif\u001b[39;00m \u001b[38;5;28misinstance\u001b[39m(libver, \u001b[38;5;28mtuple\u001b[39m):\n\u001b[1;32m    570\u001b[0m     \u001b[38;5;28mself\u001b[39m\u001b[38;5;241m.\u001b[39m_libver \u001b[38;5;241m=\u001b[39m libver\n",
      "File \u001b[0;32m~/Documents/Teaching/teaching-env/lib/python3.10/site-packages/h5py/_hl/files.py:231\u001b[0m, in \u001b[0;36mmake_fid\u001b[0;34m(name, mode, userblock_size, fapl, fcpl, swmr)\u001b[0m\n\u001b[1;32m    229\u001b[0m     \u001b[38;5;28;01mif\u001b[39;00m swmr \u001b[38;5;129;01mand\u001b[39;00m swmr_support:\n\u001b[1;32m    230\u001b[0m         flags \u001b[38;5;241m|\u001b[39m\u001b[38;5;241m=\u001b[39m h5f\u001b[38;5;241m.\u001b[39mACC_SWMR_READ\n\u001b[0;32m--> 231\u001b[0m     fid \u001b[38;5;241m=\u001b[39m \u001b[43mh5f\u001b[49m\u001b[38;5;241;43m.\u001b[39;49m\u001b[43mopen\u001b[49m\u001b[43m(\u001b[49m\u001b[43mname\u001b[49m\u001b[43m,\u001b[49m\u001b[43m \u001b[49m\u001b[43mflags\u001b[49m\u001b[43m,\u001b[49m\u001b[43m \u001b[49m\u001b[43mfapl\u001b[49m\u001b[38;5;241;43m=\u001b[39;49m\u001b[43mfapl\u001b[49m\u001b[43m)\u001b[49m\n\u001b[1;32m    232\u001b[0m \u001b[38;5;28;01melif\u001b[39;00m mode \u001b[38;5;241m==\u001b[39m \u001b[38;5;124m'\u001b[39m\u001b[38;5;124mr+\u001b[39m\u001b[38;5;124m'\u001b[39m:\n\u001b[1;32m    233\u001b[0m     fid \u001b[38;5;241m=\u001b[39m h5f\u001b[38;5;241m.\u001b[39mopen(name, h5f\u001b[38;5;241m.\u001b[39mACC_RDWR, fapl\u001b[38;5;241m=\u001b[39mfapl)\n",
      "File \u001b[0;32mh5py/_objects.pyx:54\u001b[0m, in \u001b[0;36mh5py._objects.with_phil.wrapper\u001b[0;34m()\u001b[0m\n",
      "File \u001b[0;32mh5py/_objects.pyx:55\u001b[0m, in \u001b[0;36mh5py._objects.with_phil.wrapper\u001b[0;34m()\u001b[0m\n",
      "File \u001b[0;32mh5py/h5f.pyx:106\u001b[0m, in \u001b[0;36mh5py.h5f.open\u001b[0;34m()\u001b[0m\n",
      "\u001b[0;31mFileNotFoundError\u001b[0m: [Errno 2] Unable to open file (unable to open file: name = '../snapshots/hydro_merger/snapshot_0000.hdf5', errno = 2, error message = 'No such file or directory', flags = 0, o_flags = 0)"
     ]
    },
    {
     "data": {
      "image/png": "[encoded data removed]",
      "text/plain": [
       "<Figure size 640x480 with 2 Axes>"
      ]
     },
     "metadata": {},
     "output_type": "display_data"
    }
   ],
   "source": [
    "import glob\n",
    "import h5py\n",
    "import numpy as np\n",
    "import matplotlib.pyplot as plt\n",
    "import matplotlib.animation\n",
    "\n",
    "# How many frames will there be? Change this if necessary\n",
    "nframes = 102\n",
    "\n",
    "# Set up the plot\n",
    "fig = plt.figure()\n",
    "ax1 = fig.add_subplot(211)\n",
    "ax2 = fig.add_subplot(212)\n",
    "\n",
    "# Open the first snapshot and extract the DM coordinates\n",
    "hdf = h5py.File(\"../snapshots/hydro_merger/snapshot_0000.hdf5\", \"r\")\n",
    "dm_pos = hdf[\"PartType1/Coordinates\"][:]\n",
    "gas_pos = hdf[\"PartType0/Coordinates\"][:]\n",
    "hdf.close()\n",
    "\n",
    "# Make the first frame from the first snapshot at softening resolution for dm and gas\n",
    "dm_H, _, _ = np.histogram2d(dm_pos[:, 0], dm_pos[:, 1], bins=np.arange(0, boxsize + comoving_dm_softening, comoving_dm_softening))\n",
    "gas_H, _, _ = np.histogram2d(gas_pos[:, 0], gas_pos[:, 1], bins=np.arange(0, boxsize + comoving_baryon_softening, comoving_baryon_softening))\n",
    "\n",
    "# Plot the first frame\n",
    "im1 = ax1.imshow(np.arcsinh(dm_H), cmap=\"Greys_r\", extent=[0, boxsize, 0, boxsize])\n",
    "im2 = ax2.imshow(np.arcsinh(gas_H), cmap=\"Greys_r\", extent=[0, boxsize, 0, boxsize])\n",
    "\n",
    "def animate(i):\n",
    "    \"\"\"\n",
    "    Make each frame for snapshot i.\n",
    "    \"\"\"\n",
    "\n",
    "    # Open the snapshot and extract DM coordinates\n",
    "    hdf = h5py.File(\"../snapshots/hydro_merger/snapshot_%s.hdf5\" % str(i).zfill(4), \"r\")\n",
    "    dm_pos = hdf[\"PartType1/Coordinates\"][:]\n",
    "    gas_pos = hdf[\"PartType0/Coordinates\"][:]\n",
    "    hdf.close()\n",
    "\n",
    "    # Make a 2D histogram at softening resolution\n",
    "    dm_H, _, _ = np.histogram2d(dm_pos[:, 0], dm_pos[:, 1], bins=np.arange(0, boxsize + comoving_dm_softening, comoving_dm_softening))\n",
    "    gas_H, _, _ = np.histogram2d(gas_pos[:, 0], gas_pos[:, 1], bins=np.arange(0, boxsize + comoving_baryon_softening, comoving_baryon_softening))\n",
    "\n",
    "    # Populate the frame with this 2D histogram\n",
    "    im1.set_array(dm_H)\n",
    "    im2.set_array(gas_H)\n",
    "\n",
    "    return [im1, im2]\n",
    "\n",
    "# Make the animation\n",
    "ani = matplotlib.animation.FuncAnimation(fig, animate, frames=nframes)\n",
    "\n",
    "# Write it to mp4\n",
    "FFwriter = matplotlib.animation.FFMpegWriter(fps=10)\n",
    "ani.save('../videos/Hydro_merger.mp4', writer =FFwriter)"
   ]
  },
  {
   "cell_type": "code",
   "execution_count": null,
   "id": "1533c541-ed62-48ff-b950-4e9ec3e72502",
   "metadata": {},
   "outputs": [],
   "source": []
  }
 ],
 "metadata": {
  "kernelspec": {
   "display_name": "Python 3 (ipykernel)",
   "language": "python",
   "name": "python3"
  },
  "language_info": {
   "codemirror_mode": {
    "name": "ipython",
    "version": 3
   },
   "file_extension": ".py",
   "mimetype": "text/x-python",
   "name": "python",
   "nbconvert_exporter": "python",
   "pygments_lexer": "ipython3",
   "version": "3.10.4"
  }
 },
 "nbformat": 4,
 "nbformat_minor": 5
}
