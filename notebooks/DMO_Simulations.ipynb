{
 "cells": [
  {
   "cell_type": "markdown",
   "id": "6d348cf5-f284-4647-933c-4805eb82ef17",
   "metadata": {},
   "source": [
    "# Dark Matter Only Simulations\n",
    "\n"
   ]
  },
  {
   "cell_type": "code",
   "execution_count": null,
   "id": "03c1118d-d776-445b-94a3-c56462313420",
   "metadata": {},
   "outputs": [],
   "source": [
    "import unyt\n",
    "import astropy.units as u\n",
    "import scipy\n",
    "from astropy.cosmology import Planck18 as cosmo"
   ]
  },
  {
   "cell_type": "markdown",
   "id": "2da90c24-65f6-4f26-9ac9-6344ac794aa2",
   "metadata": {},
   "source": [
    "## Parameter files\n",
    "\n",
    "As well as initial conditions, SWIFT also requires a parameter file in `yaml` format. This file tells SWIFT what values it should use for certain internal constants, controls a myriad of physical mechanisms and how they should behave, and tells SWIFT where to find the inputs it needs and where it should put the outputs. You can find example parameter files in the `params` directory, which are mostly set up for these simulations. However, we will need to modify some parts of the parameter file for what we have created in the [previous section](Initial_Conditions.ipynb). \n",
    "\n",
    "These files are structured in blocks describing various different aspects of SWIFT. You don't need to change much since they have all been set up to work in this repo's structure but do take a look at the different sections and the parameter descriptions. There are a **lot** of moving parts!\n",
    "\n",
    "### Softening\n",
    "\n",
    "The main parameter we will have to change is the gravitational softening length, since it is a function of the particle resolution. Firstly, I'll give some quick background on what this is. When we run a simulation, we are using \"mass elements\" to represent the true matter distribution. The particles created in the previous step are merely a representation of the mass that makes up the halos, not the true mass elements on the halo. This \"quantisation\" into elements of the matter field imposes a spatial resolution below which forces are incorrect. To combat this, we \"soften\" the forces by adding a softening length ($\\epsilon$) into Newtons law,\n",
    "$$\n",
    "F = G\\frac{Mm}{r^2 + \\epsilon^2}.\n",
    "$$\n",
    "\n",
    "This also avoids infinities when particles are in the exact same position. In practice, the equations used to calculate gravity in simulations are much more complicated than the above, but the effect of softening is identical. \n",
    "\n",
    "The softening length itself is defined as\n",
    "$$\n",
    "\\epsilon = 0.04\\bar{x}\n",
    "$$\n",
    "where $\\bar{x}$ is the mean inter-particle separation. We can calculate the mean particle separation based on the density of matter in the Universe, the boxsize of the simulation and the particle mass. Recall the values for `boxsize`, `npart1`, and `npart2` from the halo merge you just made and input them below."
   ]
  },
  {
   "cell_type": "code",
   "execution_count": null,
   "id": "18fe6883-d760-4dda-91a0-dcc1f4b18e25",
   "metadata": {},
   "outputs": [],
   "source": [
    "# Enter the values you choose from the initial conditions notebook\n",
    "npart1 = 10000\n",
    "npart2 = 5000\n",
    "nbkg = 25 ** 3\n",
    "boxsize = 2\n",
    "\n",
    "def soft(boxsize, npart1, npart2, nbkg):\n",
    "    part_mass = (cosmo.Om(0) * cosmo.critical_density(0) * boxsize ** 3 / (npart1 + npart2 + nbkg)).to(u.Msun)\n",
    "    xbar = (1 / (cosmo.Om(0) * cosmo.critical_density(0) / part_mass)) ** (1/3)\n",
    "\n",
    "    s = 0.04 * xbar.to(u.Mpc).value\n",
    "\n",
    "    return s\n",
    "\n",
    "\n",
    "# Compute the softening length\n",
    "comoving_dm_softening = soft(boxsize * u.Mpc, npart1, npart2, nbkg)\n",
    "print(\"comoving_DM_softening =\", comoving_dm_softening)"
   ]
  },
  {
   "cell_type": "markdown",
   "id": "a93a8567-579b-4dbb-87dd-b2b7c431142b",
   "metadata": {},
   "source": [
    "But we aren't quite done with the softening length yet. The above is the value needed for the `comoving_DM_softening` parameter, but we also need the value for `max_physical_DM_softening`. This defines the maximum physical softening length. As redshift decreases, the softening length will increase in size $\\propto (1+z)^{-1}$, hence the necessity of setting a maximal value. We can calculate this maximum by evaluating the physical softening length at some pivot redshift. $z=2.7$ is often used for this pivot. `max_physical_DM_softening` is therefore..."
   ]
  },
  {
   "cell_type": "code",
   "execution_count": null,
   "id": "bab9a22c-2c92-4231-8f21-91807a3daf46",
   "metadata": {},
   "outputs": [],
   "source": [
    "print(\"max_physical_DM_softening =\", comoving_dm_softening / (1 + 2.7))"
   ]
  },
  {
   "cell_type": "markdown",
   "id": "9cdc22fd-c7b1-4b12-997d-bfc7bd7e331a",
   "metadata": {},
   "source": [
    "Now enter these values into their corresponding entries in `params/DMO_merger.yml` and we are almost ready to go! \n",
    "\n",
    "### Simulation duration\n",
    "\n",
    "We won't run a cosmological simulation to begin with. Note that that means we didn't need both the softening lengths above but it's useful to know. This also means the Cosmology block is unnecessary, the duration of the simulation is instead controlled by the `TimeIntegration` block. You can run with what is already set but depending on how you set up your ICs `time_end` may not be long enough, feel free to extend this if needed.\n",
    "\n",
    "## Running the simulation\n",
    "\n",
    "SWIFT is extremely flexible and versatile, you have already seen after configuration the vast number of options we did not turn on in that initial configuration. To enable functionality in SWIFT we need only pass the corresponding configuration flag and runtime arguments when we call the executable. For a dark matter only (DMO) simulation all we need is gravitational calculations. We can therefore use the simple SWIFT executable you created during the set-up phase of the workshop. Recall this required the following configuration flags:\n",
    "```\n",
    "./configure --disable-mpi --disable-compiler-warnings --disable-doxygen-doc --disable-hand-vec\n",
    "```\n",
    "(here I've included the Mac caveat options, but you may not need to). After running this configuration and invoking `make`, you will have the SWIFT executable `swift` in the SWIFT directory. Before we finally run the simulation **navigate on the terminal to the base of the SWIFT-Workshop directory**, all of the parameter file paths assume you are running SWIFT at this location.\n",
    "\n",
    "To run the DMO simulation we now just need to invoke the following on the command line.\n",
    "```\n",
    "/path/to/SWIFT/swift --self-gravity --threads <n> params/DMO_merger.yml\n",
    "```\n",
    "\n",
    "Here we are using the relative path to the `swift` executable (`/path/to/SWIFT/`) and calling it with `--self-gravity` to enable gravitational calculations between particles, telling SWIFT how many threads to use with `--threads` (choose however many you can throw at it, the more the quicker the simulation will run), and telling it which parameter file to use. If you want a more verbose output to see what SWIFT reports while it's running you can add `-v 1` to enable verbose outputs. For instance, when I ran this simulation I ran the following.\n",
    "```\n",
    "../../Codes/SWIFT/swift --self-gravity --threads 12 params/DMO_merger.yml\n",
    "```\n",
    "\n",
    "Now that the simulation is running, let's return to the [initial conditions](Initial_Conditions.ipynb) and add some baryons! You can come back here when the simulation has finished (or run for a sufficient time) to do the next stage and visualise the simulation.\n"
   ]
  },
  {
   "cell_type": "markdown",
   "id": "11a45fd0-3e4b-4600-803d-949ccb14b173",
   "metadata": {},
   "source": [
    "## Visulising the Simulation\n",
    "\n",
    "Initially, we'll just make a movie of the simulation. Later on, we'll look at some analysis after running a real set of ICs including cosmology and all the bells and whistles.\n",
    "\n",
    "The cell below contains the code to make a movie from the simulation. The only part you should need to edit is the number of frames (`nframes`). This should match the number of snapshots in `snapshots/dmo_merger`. If you did not change `time_end` you should not need to edit this cell at all. Run it and you will find an `mp4` file in the `videos` directory and can see what you have made and run. Remember what we have just made is entirely fake!"
   ]
  },
  {
   "cell_type": "code",
   "execution_count": null,
   "id": "30a8ff41-1d14-4c65-a533-48d473986f11",
   "metadata": {},
   "outputs": [],
   "source": [
    "import glob\n",
    "import h5py\n",
    "import numpy as np\n",
    "import matplotlib.pyplot as plt\n",
    "import matplotlib.animation\n",
    "\n",
    "# How many frames will there be? Change this if necessary\n",
    "nframes = 501\n",
    "\n",
    "# Set up the plot\n",
    "fig, ax = plt.subplots()\n",
    "\n",
    "# Open the first snapshot and extract the DM coordinates\n",
    "hdf = h5py.File(\"../snapshots/dmo_merger/snapshot_0000.hdf5\", \"r\")\n",
    "pos = hdf[\"PartType1/Coordinates\"][:]\n",
    "hdf.close()\n",
    "# Make the first frame from the first snapshot at softening resolution\n",
    "H, _, _ = np.histogram2d(pos[:, 0], pos[:, 1], bins=np.arange(0, boxsize + comoving_dm_softening, comoving_dm_softening))\n",
    "\n",
    "# Plot the first frame\n",
    "im = ax.imshow(np.arcsinh(H), cmap=\"Greys_r\", extent=[0, boxsize, 0, boxsize])\n",
    "\n",
    "def animate(i):\n",
    "    \"\"\"\n",
    "    Make each frame for snapshot i.\n",
    "    \"\"\"\n",
    "\n",
    "    # Open the snapshot and extract DM coordinates\n",
    "    hdf = h5py.File(\"../snapshots/dmo_merger/snapshot_%s.hdf5\" % str(i).zfill(4), \"r\")\n",
    "    pos = hdf[\"PartType1/Coordinates\"][:]\n",
    "    hdf.close()\n",
    "\n",
    "    # Make a 2D histogram at softening resolution\n",
    "    H, _, _ = np.histogram2d(pos[:, 0], pos[:, 1], bins=np.arange(0, boxsize + comoving_dm_softening, comoving_dm_softening))\n",
    "\n",
    "    # Populate the frame with this 2D histogram\n",
    "    im.set_array(H)\n",
    "\n",
    "    return [im]\n",
    "\n",
    "# Make the animation\n",
    "ani = matplotlib.animation.FuncAnimation(fig, animate, frames=nframes)\n",
    "\n",
    "# Write it to mp4\n",
    "FFwriter = matplotlib.animation.FFMpegWriter(fps=10)\n",
    "ani.save('../videos/DMO_merger.mp4', writer =FFwriter)"
   ]
  }
 ],
 "metadata": {},
 "nbformat": 4,
 "nbformat_minor": 5
}
